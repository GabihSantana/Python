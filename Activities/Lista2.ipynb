{
  "cells": [
    {
      "cell_type": "markdown",
      "metadata": {},
      "source": [
        "## Impar ou Par"
      ]
    },
    {
      "cell_type": "code",
      "execution_count": null,
      "metadata": {},
      "outputs": [],
      "source": [
        "numero = int(input(\"Insira um número: \"))\n",
        "if numero % 2 != 0:\n",
        "    print(\"Número ímpar\")\n",
        "elif numero == 0:\n",
        "    print(\"Número é zero\")\n",
        "else:\n",
        "    print(\"Número par\")"
      ]
    },
    {
      "cell_type": "markdown",
      "metadata": {},
      "source": [
        "## Experiente ou Iniciante"
      ]
    },
    {
      "cell_type": "code",
      "execution_count": null,
      "metadata": {},
      "outputs": [],
      "source": [
        "numero = int(input(\"Insira um número: \"))\n",
        "if numero > 10:\n",
        "    print(\"Bem-vindo, jogador experiente!\")\n",
        "elif numero <= 10:\n",
        "    print(\"Boas-vindas jogador iniciante\")"
      ]
    },
    {
      "cell_type": "markdown",
      "metadata": {},
      "source": [
        "## Votação: Obrigatório?"
      ]
    },
    {
      "cell_type": "code",
      "execution_count": null,
      "metadata": {},
      "outputs": [],
      "source": [
        "idade = int(input(\"Informe a sua idade: \"))\n",
        "if idade < 16:\n",
        "    print(\"Não pode votar!\")\n",
        "elif idade >= 16 and idade < 18 or idade >= 70:\n",
        "    print(\"Direito a voto, mas não obrigatório\")\n",
        "else:\n",
        "   print(\"Direito a voto, mas não obrigatório!\")"
      ]
    },
    {
      "cell_type": "markdown",
      "metadata": {},
      "source": [
        "## Onde está mais barato?"
      ]
    },
    {
      "cell_type": "code",
      "execution_count": null,
      "metadata": {},
      "outputs": [],
      "source": [
        "wishlist = ['Moby Dick', 'Helena', 'A Origem das Espécies', 'Grande Sertão: Veredas', 'Odisseia', 'Rápido e Devagar', 'Sidarta']\n",
        "\n",
        "precos_sebo = {'Odisseia':50, 'Jane Eyre':61, 'A Divina Comédia': 56, 'Helena':10, 'Moby Dick':55, 'Crime e Castigo':20}\n",
        "\n",
        "precos_internet = {'Odisseia':30, 'Jane Eyre':32, 'A Divina Comédia': 22, 'Helena':26, 'Moby Dick':145, 'Crime e Castigo':80}\n",
        "\n",
        "wishlist = ['Moby Dick', 'Crime e Castigo', 'Odisseia']\n",
        "\n",
        "for livro in wishlist:\n",
        "    if livro in wishlist:\n",
        "        preco_sebo = precos_sebo.get(livro)\n",
        "        preco_internet = precos_internet.get(livro)\n",
        "\n",
        "        if preco_sebo is not None and preco_internet is not None and preco_sebo < preco_internet:\n",
        "            print(f\"Você deven comprar {livro}\")\n",
        "        else:\n",
        "            print(f\"Você não deve comprar {livro}\")"
      ]
    },
    {
      "cell_type": "markdown",
      "metadata": {},
      "source": [
        "## Voucher na cafeteria: Gastei mais, menos ou certo?"
      ]
    },
    {
      "cell_type": "code",
      "execution_count": null,
      "metadata": {},
      "outputs": [],
      "source": [
        "voucher = 20\n",
        "valorSobremesa = float(input(\"Insira o valor da sobremesa: \"))\n",
        "\n",
        "if voucher < valorSobremesa:\n",
        "    total = valorSobremesa - voucher\n",
        "    print(f\"Você deverá pagar {total} a mais\")\n",
        "elif voucher > valorSobremesa:\n",
        "        total = voucher - valorSobremesa\n",
        "        print(f\"Você economizou {total}!\")\n",
        "else:\n",
        "    print(\"Você não precisa pagar nada a mais!\")"
      ]
    },
    {
      "cell_type": "markdown",
      "metadata": {},
      "source": [
        "### Printando números com range"
      ]
    },
    {
      "cell_type": "code",
      "execution_count": null,
      "metadata": {},
      "outputs": [],
      "source": [
        "for numbers in range(1, 6):\n",
        "    print(numbers)"
      ]
    },
    {
      "cell_type": "markdown",
      "metadata": {},
      "source": [
        "### Tabuada "
      ]
    },
    {
      "cell_type": "code",
      "execution_count": null,
      "metadata": {},
      "outputs": [],
      "source": [
        "num = int(input(\"Insira a tabúada que deseja saber: \"))\n",
        "for valores in range (1, 11):\n",
        "    total = num * valores\n",
        "    print(f\"{num} x {valores} = {total}\")"
      ]
    },
    {
      "cell_type": "markdown",
      "metadata": {},
      "source": [
        "### Contando a quantidade de caracteres 'a' na letra da música"
      ]
    },
    {
      "cell_type": "code",
      "execution_count": null,
      "metadata": {},
      "outputs": [],
      "source": [
        "bad_romance = \"\"\"Rah, rah-ah-ah-ah\n",
        "                 Roma, roma-ma\n",
        "                 Gaga, ooh-la-la\n",
        "                 Want your bad romance\n",
        "\n",
        "                 Rah, rah-ah-ah-ah\n",
        "                 Roma, roma-ma\n",
        "                 Gaga, ooh-la-la\n",
        "                 Want your bad romance\"\"\"\n",
        "\n",
        "somatório = 0\n",
        "\n",
        "for letras in bad_romance:\n",
        "    if letras == 'a':\n",
        "        somatório += 1\n",
        "\n",
        "print(f\"Quantidade de letras a: {somatório}\")"
      ]
    },
    {
      "cell_type": "markdown",
      "metadata": {},
      "source": [
        "### Printando uma pirâmide de números"
      ]
    },
    {
      "cell_type": "code",
      "execution_count": null,
      "metadata": {},
      "outputs": [],
      "source": [
        "for num in range (1, 10):\n",
        "    print(str(num) * num)"
      ]
    },
    {
      "cell_type": "markdown",
      "metadata": {},
      "source": [
        "### Verificando se o número é primo"
      ]
    },
    {
      "cell_type": "code",
      "execution_count": null,
      "metadata": {},
      "outputs": [],
      "source": [
        "numero = int(input(\"Digite um número inteiro: \"))\n",
        "contador = 0\n",
        "\n",
        "for divisor in range(1, numero + 1):\n",
        "    if numero % divisor == 0:\n",
        "        contador += 1\n",
        "\n",
        "if contador == 2:\n",
        "    print(f\"{numero} é um número primo.\")\n",
        "else:\n",
        "    print(f\"{numero} não é um número primo.\")"
      ]
    },
    {
      "cell_type": "markdown",
      "metadata": {},
      "source": [
        "### Fazendo o somatório de um número enquanto não é digitado 0"
      ]
    },
    {
      "cell_type": "code",
      "execution_count": null,
      "metadata": {},
      "outputs": [],
      "source": [
        "somatorio = 0;\n",
        "while True:\n",
        "    num = int(input(\"Insira um número: \"))\n",
        "    if num == 0:\n",
        "        break\n",
        "    else:\n",
        "        somatorio += num\n",
        "print(f\"Soma dos números inseridos: {somatorio}\")"
      ]
    },
    {
      "cell_type": "markdown",
      "metadata": {},
      "source": [
        "### Ano Bissextou ou não"
      ]
    },
    {
      "cell_type": "code",
      "execution_count": null,
      "metadata": {},
      "outputs": [],
      "source": [
        "import calendar\n",
        "\n",
        "while True:\n",
        "    ano = int(input(\"Insira o ano: \"))\n",
        "    bissextos = 4;\n",
        "\n",
        "    if ano == 0:\n",
        "        break\n",
        "\n",
        "    if ano % bissextos == 0:\n",
        "        cal = calendar.month(ano, 2)\n",
        "        print(cal)\n",
        "        print(f\"O ano de {ano} é bissexto\")\n",
        "    else:\n",
        "        cal = calendar.month(ano, 2)\n",
        "        print(cal)\n",
        "        print(f\"O ano de {ano} não é bissexto\")"
      ]
    }
  ],
  "metadata": {
    "kernelspec": {
      "display_name": "Python 3.7.4 64-bit",
      "language": "python",
      "name": "python3"
    },
    "language_info": {
      "codemirror_mode": {
        "name": "python",
        "version": 3
      },
      "file_extension": ".py",
      "mimetype": "text/x-python",
      "name": "python",
      "nbconvert_exporter": "python",
      "pygments_lexer": "ipython3",
      "version": "3.7.4"
    },
    "vscode": {
      "interpreter": {
        "hash": "08e6c9fc0821cba0184f7227dfc266ffb23b8a35c89495eadee6b101cbbaa4d9"
      }
    }
  },
  "nbformat": 4,
  "nbformat_minor": 4
}

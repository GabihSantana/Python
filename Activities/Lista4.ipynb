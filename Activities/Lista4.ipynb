{
  "metadata": {
    "language_info": {
      "codemirror_mode": {
        "name": "python",
        "version": 3
      },
      "file_extension": ".py",
      "mimetype": "text/x-python",
      "name": "python",
      "nbconvert_exporter": "python",
      "pygments_lexer": "ipython3",
      "version": "3.8"
    },
    "kernelspec": {
      "name": "python",
      "display_name": "Python (Pyodide)",
      "language": "python"
    }
  },
  "nbformat_minor": 4,
  "nbformat": 4,
  "cells": [
    {
      "cell_type": "code",
      "source": "import random\n\ndef roleta():\n    bola = random.randint(0, 36)\n    return bola\n\nresultado = roleta()\nprint(f\"A bola da roleta parou no número: {resultado}\")\n\ndef simular_jogo_cartas():\n    carta1 = random.randint(1, 11)\n    carta2 = random.randint(1, 11)\n\n    return carta1 + carta2\n\npontuação = simular_jogo_cartas()\nprint(f\"A pontuação do jogador no jogo de cartas é: {pontuação}\")",
      "metadata": {
        "trusted": true
      },
      "execution_count": 39,
      "outputs": [
        {
          "name": "stdout",
          "text": "A bola da roleta parou no número: 6\nA pontuação do jogador no jogo de cartas é: 16\n",
          "output_type": "stream"
        }
      ]
    },
    {
      "cell_type": "code",
      "source": "import math\n\nraio = 5\n\narea = math.pi * (raio ** 2)\nprint(f\"A área da piscina circular é aproximadamente {area:.2f} metros quadrados.\")",
      "metadata": {
        "trusted": true
      },
      "execution_count": 28,
      "outputs": [
        {
          "name": "stdout",
          "text": "A área da piscina circular é aproximadamente 78.54 metros quadrados.\n",
          "output_type": "stream"
        }
      ]
    },
    {
      "cell_type": "code",
      "source": "from datetime import datetime\nagora = datetime.now()\nprint(agora)",
      "metadata": {
        "trusted": true
      },
      "execution_count": 29,
      "outputs": [
        {
          "name": "stdout",
          "text": "2023-11-11 23:24:12.740000\n",
          "output_type": "stream"
        }
      ]
    },
    {
      "cell_type": "code",
      "source": "import random\n\nnomes = [\"Alice\", \"Bob\", \"Carlos\", \"Diana\", \"Eva\",\"Henrique\", \"Isadora\", \"Leandro\", \"Patricia\",\"Julia\", \"Alex\"]\n\nganhador = random.choice(nomes)\nprint(f\"O ganhador é {ganhador}\")",
      "metadata": {
        "trusted": true
      },
      "execution_count": 30,
      "outputs": [
        {
          "name": "stdout",
          "text": "O ganhador é Henrique\n",
          "output_type": "stream"
        }
      ]
    },
    {
      "cell_type": "code",
      "source": "import numpy as np",
      "metadata": {
        "trusted": true
      },
      "execution_count": 1,
      "outputs": []
    },
    {
      "cell_type": "code",
      "source": "num = np.arange(1, 11)\nprint(num)",
      "metadata": {
        "trusted": true
      },
      "execution_count": 7,
      "outputs": [
        {
          "name": "stdout",
          "text": "[ 1  2  3  4  5  6  7  8  9 10]\n",
          "output_type": "stream"
        }
      ]
    },
    {
      "cell_type": "code",
      "source": "arr1 = np.arange(1, 6)\narr2 = np.arange(6, 11)\n\nsoma = arr1 + arr2\nprint(f\"Soma: {soma}\")\n\nmult = arr1 * arr2\nprint(f\"Multiplição: {mult}\")\n\nsub = arr2 - arr1\nprint(f\"Subtração: {sub}\")\n\ndiv = arr1 / arr2\nprint(f\"Divisão: {div}\")",
      "metadata": {
        "trusted": true
      },
      "execution_count": 21,
      "outputs": [
        {
          "name": "stdout",
          "text": "Soma: [ 7  9 11 13 15]\nMultiplição: [ 6 14 24 36 50]\nSubtração: [5 5 5 5 5]\nDivisão: [0.16666667 0.28571429 0.375      0.44444444 0.5       ]\n",
          "output_type": "stream"
        }
      ]
    },
    {
      "cell_type": "code",
      "source": "arr1 = np.array([1, 2, 3, 4, 5])\narr2 = np.array([6, 7, 8, 9, 10])\n\nsoma = arr1 + arr2\nprint(f\"Soma: {soma}\")",
      "metadata": {
        "trusted": true
      },
      "execution_count": 25,
      "outputs": [
        {
          "name": "stdout",
          "text": "Soma: [ 7  9 11 13 15]\n",
          "output_type": "stream"
        }
      ]
    },
    {
      "cell_type": "code",
      "source": "nota_mat = np.array([8.5, 7.2, 9.0, 6.8, 7.5])\nnota_cie = np.array([9.2, 8.9, 7.8, 8.6, 9.5])\n\nmedia_mat = nota_mat.mean()\nmedia_cie = nota_cie.mean()\n\nprint(f\"Média de Matemática: {media_mat}\")\nprint(f\"Média de Ciências: {media_cie}\")\n",
      "metadata": {
        "trusted": true
      },
      "execution_count": 24,
      "outputs": [
        {
          "name": "stdout",
          "text": "Média de Matemática: 7.8\nMédia de Ciências: 8.8\n",
          "output_type": "stream"
        }
      ]
    },
    {
      "cell_type": "code",
      "source": "import pandas as pd\n\n# Carregue os dados do arquivo CSV em um DataFrame\n# Substitua 'seuarquivo.csv' pelo nome real do arquivo CSV que você possui.\ndf = pd.read_csv('livros.csv')\n\n# Exiba as 5 primeiras linhas do DataFrame\nprint(df.head())",
      "metadata": {
        "trusted": true
      },
      "execution_count": 26,
      "outputs": [
        {
          "name": "stdout",
          "text": "   Unnamed: 0  year                                              title  \\\n0           0  2019  The Home Edit: A Guide to Organizing and Reali...   \n1           1  2019                            How to Be an Antiracist   \n2           2  2019  Publication Manual of the American Psychologic...   \n3           3  2019              Official SAT Study Guide 2020 Edition   \n4           4  2019  The Little Old Lady Who Was Not Afraid of Anyt...   \n\n   isBestSelling                         subcategory  \n0           True     Do-It-Yourself Home Improvement  \n1          False                                 NaN  \n2           True                          Psychology  \n3           True                     SAT Test Guides  \n4           True  Children's Short Story Collections  \n",
          "output_type": "stream"
        }
      ]
    },
    {
      "cell_type": "code",
      "source": "",
      "metadata": {},
      "execution_count": null,
      "outputs": []
    }
  ]
}
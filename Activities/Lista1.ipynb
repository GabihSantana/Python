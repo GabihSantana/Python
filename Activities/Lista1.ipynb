{
  "cells": [
    {
      "cell_type": "code",
      "execution_count": 2,
      "metadata": {
        "trusted": true
      },
      "outputs": [
        {
          "name": "stdout",
          "output_type": "stream",
          "text": [
            "Nome Sobrenome\n"
          ]
        }
      ],
      "source": [
        "primeiro_nome = \"Nome\"\n",
        "sobrenome = \"Sobrenome\"\n",
        "nome_completo = primeiro_nome + \" \" + sobrenome\n",
        "print(nome_completo)"
      ]
    },
    {
      "cell_type": "code",
      "execution_count": 16,
      "metadata": {
        "trusted": true
      },
      "outputs": [
        {
          "name": "stdout",
          "output_type": "stream",
          "text": [
            "algo esconde esta mensagem. poderia decifra-la?\n"
          ]
        }
      ],
      "source": [
        "mensagem = \"@lg0 3$c0nd3 3$t@ m3n$@g3m. P0d3r1@ d3c1fr@-l@?\"\n",
        "nova_mensagem = mensagem.replace('@','a')\n",
        "nova_mensagem1 = nova_mensagem.replace('1', 'i')\n",
        "nova_mensagem2 = nova_mensagem1.replace('3', 'e')\n",
        "nova_mensagem3 = nova_mensagem2.replace('4', 'a')\n",
        "nova_mensagem4 = nova_mensagem3.replace('$', 's')\n",
        "nova_mensagem5 = nova_mensagem4.replace('0', 'o')\n",
        "print(nova_mensagem5.lower())"
      ]
    },
    {
      "cell_type": "code",
      "execution_count": 12,
      "metadata": {
        "trusted": true
      },
      "outputs": [
        {
          "name": "stdout",
          "output_type": "stream",
          "text": [
            "['Farinha de Trigo', 'Calabresa', 'Milho', 'Champignon', 'Molho de Tomate', 'Frango', 'Requeijão', 'Lombo', 'Levain', 'Açúcar']\n",
            "['Farinha de Trigo', 'Calabresa', 'Milho', 'Champignon', 'Molho de Tomate', 'Frango', 'Requeijão', 'Lombo', 'Levain', 'Açúcar']\n"
          ]
        }
      ],
      "source": [
        "compras = ['Farinha de Trigo', 'Ovos', 'Fermento Biológico', 'Leite', 'Calabresa', 'Milho', \n",
        "           'Champignon', 'Molho de Tomate', 'Frango', 'Requeijão', 'Lombo']\n",
        "compras.remove('Ovos')\n",
        "compras.remove('Leite')\n",
        "compras.remove('Fermento Biológico')\n",
        "compras.append('Levain')\n",
        "compras.append('Açúcar')\n",
        "\n",
        "print(compras)\n",
        "\n",
        "sarpmoc = ['ogirT ed ahniraF', 'Calabresa', 'Milho', 'Champignon', 'etamoT ed ohloM', 'Frango', \n",
        "           'Requeijão', 'Lombo', 'niaveL', 'Açúcar']\n",
        "           \n",
        "sarpmoc[0] = sarpmoc[0][::-1]\n",
        "sarpmoc[4] = sarpmoc[4][::-1]\n",
        "sarpmoc[8] = sarpmoc[8][::-1]\n",
        "\n",
        "print(sarpmoc)\n"
      ]
    },
    {
      "cell_type": "code",
      "execution_count": 14,
      "metadata": {
        "trusted": true
      },
      "outputs": [
        {
          "name": "stdout",
          "output_type": "stream",
          "text": [
            "{'Pizzas Salgadas': ['Calabresa', 'Portuguesa', 'Mussarela', 'Pepperoni'], 'Pizzas Doces': ['Prestígio', 'Chocolate', 'Doce de Leite'], 'Bebidas': ['Guaraná', 'Cola', 'Suco de Laranja', 'Suco de Uva'], 'Adicionais': ['Bacon', 'Requeijão', 'Milho', 'Azeitona']}\n"
          ]
        }
      ],
      "source": [
        "salgadas = ['Calabresa', 'Portuguesa', 'Mussarela', 'Pepperoni']\n",
        "doces = ['Prestígio', 'Chocolate', 'Doce de Leite']\n",
        "bebidas = ['Guaraná', 'Cola', 'Suco de Laranja', 'Suco de Uva']\n",
        "adicionais = ['Bacon', 'Requeijão', 'Milho', 'Azeitona']\n",
        "\n",
        "Panfleto = {'Pizzas Salgadas': salgadas,\n",
        "            'Pizzas Doces': doces,\n",
        "            'Bebidas': bebidas,\n",
        "            'Adicionais': adicionais}\n",
        "print(Panfleto)"
      ]
    },
    {
      "cell_type": "code",
      "execution_count": 17,
      "metadata": {
        "trusted": true
      },
      "outputs": [
        {
          "name": "stdout",
          "output_type": "stream",
          "text": [
            "Preço do pedido 1: 51.5\n",
            "Preço do pedido 2: 67.5\n",
            "Preço do pedido 3: 66.5\n",
            "(51.5, 67.5, 66.5)\n"
          ]
        }
      ],
      "source": [
        "ingredientes = {\n",
        "    'massas': {\n",
        "        'Tradicional': 15.00,\n",
        "        'Integral': 20.00,\n",
        "        'Sem Glúten': 23.00\n",
        "    },\n",
        "    'molhos': {\n",
        "        'Tomate': 2.50,\n",
        "        'Barbecue': 8.00,\n",
        "        'Bechamel': 5.00\n",
        "    },\n",
        "    'coberturas': {\n",
        "        'Mussarela': 10.00,\n",
        "        'Calabresa': 7.50,\n",
        "        'Pepperoni': 12.00,\n",
        "        'Frango': 13.50,\n",
        "        'Atum': 10.50,\n",
        "        'Bacon': 12.00,\n",
        "        'Azeitona': 4.50,\n",
        "        'Cebola': 3.00,\n",
        "        'Pimentão': 4.50,\n",
        "        'Tomate': 2.50\n",
        "    },\n",
        "    'bordas': {\n",
        "        'Normal': 0.00,\n",
        "        'Queijo': 15.00,\n",
        "        'Requeijão': 18.00\n",
        "    }\n",
        "}\n",
        "\n",
        "pedido_1 = ['Sem Glúten', 'Barbecue', 'Frango', \n",
        "            'Pimentão', 'Tomate', 'Normal']\n",
        "pedido_2 = ['Tradicional', 'Tomate', \n",
        "            'Atum', 'Mussarela', \n",
        "            'Azeitona', 'Cebola', \n",
        "            'Pimentão', 'Tomate', \n",
        "            'Queijo']\n",
        "pedido_3 = ['Integral', \n",
        "            'Bechamel', \n",
        "            'Cebola', \n",
        "            'Pimentão', \n",
        "            'Tomate', \n",
        "            'Frango', \n",
        "            'Requeijão']\n",
        "\n",
        "preco_pedido_1 = ingredientes['massas'][pedido_1[0]] + ingredientes['molhos'][pedido_1[1]] + ingredientes['coberturas'][pedido_1[2]] + ingredientes['coberturas'][pedido_1[3]] + ingredientes['coberturas'][pedido_1[4]] + ingredientes['bordas'][pedido_1[5]]\n",
        "\n",
        "preco_pedido_2 = ingredientes['massas'][pedido_2[0]] + ingredientes['molhos'][pedido_2[1]] + ingredientes['coberturas'][pedido_2[2]] + ingredientes['coberturas'][pedido_2[3]] + ingredientes['coberturas'][pedido_2[4]] + ingredientes['coberturas'][pedido_2[5]] + ingredientes['coberturas'][pedido_2[6]] + ingredientes['coberturas'][pedido_2[7]] + ingredientes['bordas'][pedido_2[8]]\n",
        "\n",
        "preco_pedido_3 = ingredientes['massas'][pedido_3[0]] + ingredientes['molhos'][pedido_3[1]] + ingredientes['coberturas'][pedido_3[2]] + ingredientes['coberturas'][pedido_3[3]] + ingredientes['coberturas'][pedido_3[4]] + ingredientes['coberturas'][pedido_3[5]] + ingredientes['bordas'][pedido_3[6]]\n",
        "\n",
        "print(\"Preço do pedido 1:\", preco_pedido_1)\n",
        "print(\"Preço do pedido 2:\", preco_pedido_2)\n",
        "print(\"Preço do pedido 3:\", preco_pedido_3)\n",
        "\n",
        "historico = (preco_pedido_1, preco_pedido_2, preco_pedido_3)\n",
        "print(historico)\n"
      ]
    },
    {
      "cell_type": "code",
      "execution_count": null,
      "metadata": {},
      "outputs": [],
      "source": []
    }
  ],
  "metadata": {
    "kernelspec": {
      "display_name": "Python 3.7.4 64-bit",
      "language": "python",
      "name": "python3"
    },
    "language_info": {
      "codemirror_mode": {
        "name": "python",
        "version": 3
      },
      "file_extension": ".py",
      "mimetype": "text/x-python",
      "name": "python",
      "nbconvert_exporter": "python",
      "pygments_lexer": "ipython3",
      "version": "3.7.4"
    },
    "vscode": {
      "interpreter": {
        "hash": "08e6c9fc0821cba0184f7227dfc266ffb23b8a35c89495eadee6b101cbbaa4d9"
      }
    }
  },
  "nbformat": 4,
  "nbformat_minor": 4
}
